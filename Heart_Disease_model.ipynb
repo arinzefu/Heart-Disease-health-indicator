{
  "cells": [
    {
      "cell_type": "code",
      "execution_count": 1,
      "metadata": {
        "collapsed": true,
        "ExecuteTime": {
          "end_time": "2023-05-14T15:05:57.658260200Z",
          "start_time": "2023-05-14T15:05:57.415398600Z"
        },
        "id": "0qZKz7eTw0IQ"
      },
      "outputs": [],
      "source": [
        "import numpy as np\n",
        "import pandas as pd\n",
        "import tensorboard as tf\n",
        "from matplotlib import pyplot as plt\n",
        "import seaborn as sns"
      ]
    },
    {
      "cell_type": "code",
      "execution_count": 3,
      "outputs": [],
      "source": [
        "df = pd.read_excel('HeartDisease.xlsx')"
      ],
      "metadata": {
        "ExecuteTime": {
          "end_time": "2023-05-14T15:07:46.598995700Z",
          "start_time": "2023-05-14T15:05:57.423393400Z"
        },
        "id": "EU-sjVL7w0IY"
      }
    },
    {
      "cell_type": "code",
      "execution_count": 4,
      "outputs": [
        {
          "output_type": "execute_result",
          "data": {
            "text/plain": [
              "  HeartDisease    BMI Smoking AlcoholDrinking Stroke  PhysicalHealth  \\\n",
              "0           No  16.60     Yes              No     No               3   \n",
              "1           No  20.34      No              No    Yes               0   \n",
              "2           No  26.58     Yes              No     No              20   \n",
              "3           No  24.21      No              No     No               0   \n",
              "4           No  23.71      No              No     No              28   \n",
              "\n",
              "   MentalHealth DiffWalking     Sex  AgeCategory   Race Diabetic  \\\n",
              "0            30          No  Female        55-59  White      Yes   \n",
              "1             0          No  Female  80 or older  White       No   \n",
              "2            30          No    Male        65-69  White      Yes   \n",
              "3             0          No  Female        75-79  White       No   \n",
              "4             0         Yes  Female        40-44  White       No   \n",
              "\n",
              "  PhysicalActivity  GenHealth  SleepTime Asthma KidneyDisease SkinCancer  \n",
              "0              Yes  Very good          5    Yes            No        Yes  \n",
              "1              Yes  Very good          7     No            No         No  \n",
              "2              Yes       Fair          8    Yes            No         No  \n",
              "3               No       Good          6     No            No        Yes  \n",
              "4              Yes  Very good          8     No            No         No  "
            ],
            "text/html": [
              "\n",
              "  <div id=\"df-fe8b4e33-047b-47af-a033-446bfd90c8b2\">\n",
              "    <div class=\"colab-df-container\">\n",
              "      <div>\n",
              "<style scoped>\n",
              "    .dataframe tbody tr th:only-of-type {\n",
              "        vertical-align: middle;\n",
              "    }\n",
              "\n",
              "    .dataframe tbody tr th {\n",
              "        vertical-align: top;\n",
              "    }\n",
              "\n",
              "    .dataframe thead th {\n",
              "        text-align: right;\n",
              "    }\n",
              "</style>\n",
              "<table border=\"1\" class=\"dataframe\">\n",
              "  <thead>\n",
              "    <tr style=\"text-align: right;\">\n",
              "      <th></th>\n",
              "      <th>HeartDisease</th>\n",
              "      <th>BMI</th>\n",
              "      <th>Smoking</th>\n",
              "      <th>AlcoholDrinking</th>\n",
              "      <th>Stroke</th>\n",
              "      <th>PhysicalHealth</th>\n",
              "      <th>MentalHealth</th>\n",
              "      <th>DiffWalking</th>\n",
              "      <th>Sex</th>\n",
              "      <th>AgeCategory</th>\n",
              "      <th>Race</th>\n",
              "      <th>Diabetic</th>\n",
              "      <th>PhysicalActivity</th>\n",
              "      <th>GenHealth</th>\n",
              "      <th>SleepTime</th>\n",
              "      <th>Asthma</th>\n",
              "      <th>KidneyDisease</th>\n",
              "      <th>SkinCancer</th>\n",
              "    </tr>\n",
              "  </thead>\n",
              "  <tbody>\n",
              "    <tr>\n",
              "      <th>0</th>\n",
              "      <td>No</td>\n",
              "      <td>16.60</td>\n",
              "      <td>Yes</td>\n",
              "      <td>No</td>\n",
              "      <td>No</td>\n",
              "      <td>3</td>\n",
              "      <td>30</td>\n",
              "      <td>No</td>\n",
              "      <td>Female</td>\n",
              "      <td>55-59</td>\n",
              "      <td>White</td>\n",
              "      <td>Yes</td>\n",
              "      <td>Yes</td>\n",
              "      <td>Very good</td>\n",
              "      <td>5</td>\n",
              "      <td>Yes</td>\n",
              "      <td>No</td>\n",
              "      <td>Yes</td>\n",
              "    </tr>\n",
              "    <tr>\n",
              "      <th>1</th>\n",
              "      <td>No</td>\n",
              "      <td>20.34</td>\n",
              "      <td>No</td>\n",
              "      <td>No</td>\n",
              "      <td>Yes</td>\n",
              "      <td>0</td>\n",
              "      <td>0</td>\n",
              "      <td>No</td>\n",
              "      <td>Female</td>\n",
              "      <td>80 or older</td>\n",
              "      <td>White</td>\n",
              "      <td>No</td>\n",
              "      <td>Yes</td>\n",
              "      <td>Very good</td>\n",
              "      <td>7</td>\n",
              "      <td>No</td>\n",
              "      <td>No</td>\n",
              "      <td>No</td>\n",
              "    </tr>\n",
              "    <tr>\n",
              "      <th>2</th>\n",
              "      <td>No</td>\n",
              "      <td>26.58</td>\n",
              "      <td>Yes</td>\n",
              "      <td>No</td>\n",
              "      <td>No</td>\n",
              "      <td>20</td>\n",
              "      <td>30</td>\n",
              "      <td>No</td>\n",
              "      <td>Male</td>\n",
              "      <td>65-69</td>\n",
              "      <td>White</td>\n",
              "      <td>Yes</td>\n",
              "      <td>Yes</td>\n",
              "      <td>Fair</td>\n",
              "      <td>8</td>\n",
              "      <td>Yes</td>\n",
              "      <td>No</td>\n",
              "      <td>No</td>\n",
              "    </tr>\n",
              "    <tr>\n",
              "      <th>3</th>\n",
              "      <td>No</td>\n",
              "      <td>24.21</td>\n",
              "      <td>No</td>\n",
              "      <td>No</td>\n",
              "      <td>No</td>\n",
              "      <td>0</td>\n",
              "      <td>0</td>\n",
              "      <td>No</td>\n",
              "      <td>Female</td>\n",
              "      <td>75-79</td>\n",
              "      <td>White</td>\n",
              "      <td>No</td>\n",
              "      <td>No</td>\n",
              "      <td>Good</td>\n",
              "      <td>6</td>\n",
              "      <td>No</td>\n",
              "      <td>No</td>\n",
              "      <td>Yes</td>\n",
              "    </tr>\n",
              "    <tr>\n",
              "      <th>4</th>\n",
              "      <td>No</td>\n",
              "      <td>23.71</td>\n",
              "      <td>No</td>\n",
              "      <td>No</td>\n",
              "      <td>No</td>\n",
              "      <td>28</td>\n",
              "      <td>0</td>\n",
              "      <td>Yes</td>\n",
              "      <td>Female</td>\n",
              "      <td>40-44</td>\n",
              "      <td>White</td>\n",
              "      <td>No</td>\n",
              "      <td>Yes</td>\n",
              "      <td>Very good</td>\n",
              "      <td>8</td>\n",
              "      <td>No</td>\n",
              "      <td>No</td>\n",
              "      <td>No</td>\n",
              "    </tr>\n",
              "  </tbody>\n",
              "</table>\n",
              "</div>\n",
              "      <button class=\"colab-df-convert\" onclick=\"convertToInteractive('df-fe8b4e33-047b-47af-a033-446bfd90c8b2')\"\n",
              "              title=\"Convert this dataframe to an interactive table.\"\n",
              "              style=\"display:none;\">\n",
              "        \n",
              "  <svg xmlns=\"http://www.w3.org/2000/svg\" height=\"24px\"viewBox=\"0 0 24 24\"\n",
              "       width=\"24px\">\n",
              "    <path d=\"M0 0h24v24H0V0z\" fill=\"none\"/>\n",
              "    <path d=\"M18.56 5.44l.94 2.06.94-2.06 2.06-.94-2.06-.94-.94-2.06-.94 2.06-2.06.94zm-11 1L8.5 8.5l.94-2.06 2.06-.94-2.06-.94L8.5 2.5l-.94 2.06-2.06.94zm10 10l.94 2.06.94-2.06 2.06-.94-2.06-.94-.94-2.06-.94 2.06-2.06.94z\"/><path d=\"M17.41 7.96l-1.37-1.37c-.4-.4-.92-.59-1.43-.59-.52 0-1.04.2-1.43.59L10.3 9.45l-7.72 7.72c-.78.78-.78 2.05 0 2.83L4 21.41c.39.39.9.59 1.41.59.51 0 1.02-.2 1.41-.59l7.78-7.78 2.81-2.81c.8-.78.8-2.07 0-2.86zM5.41 20L4 18.59l7.72-7.72 1.47 1.35L5.41 20z\"/>\n",
              "  </svg>\n",
              "      </button>\n",
              "      \n",
              "  <style>\n",
              "    .colab-df-container {\n",
              "      display:flex;\n",
              "      flex-wrap:wrap;\n",
              "      gap: 12px;\n",
              "    }\n",
              "\n",
              "    .colab-df-convert {\n",
              "      background-color: #E8F0FE;\n",
              "      border: none;\n",
              "      border-radius: 50%;\n",
              "      cursor: pointer;\n",
              "      display: none;\n",
              "      fill: #1967D2;\n",
              "      height: 32px;\n",
              "      padding: 0 0 0 0;\n",
              "      width: 32px;\n",
              "    }\n",
              "\n",
              "    .colab-df-convert:hover {\n",
              "      background-color: #E2EBFA;\n",
              "      box-shadow: 0px 1px 2px rgba(60, 64, 67, 0.3), 0px 1px 3px 1px rgba(60, 64, 67, 0.15);\n",
              "      fill: #174EA6;\n",
              "    }\n",
              "\n",
              "    [theme=dark] .colab-df-convert {\n",
              "      background-color: #3B4455;\n",
              "      fill: #D2E3FC;\n",
              "    }\n",
              "\n",
              "    [theme=dark] .colab-df-convert:hover {\n",
              "      background-color: #434B5C;\n",
              "      box-shadow: 0px 1px 3px 1px rgba(0, 0, 0, 0.15);\n",
              "      filter: drop-shadow(0px 1px 2px rgba(0, 0, 0, 0.3));\n",
              "      fill: #FFFFFF;\n",
              "    }\n",
              "  </style>\n",
              "\n",
              "      <script>\n",
              "        const buttonEl =\n",
              "          document.querySelector('#df-fe8b4e33-047b-47af-a033-446bfd90c8b2 button.colab-df-convert');\n",
              "        buttonEl.style.display =\n",
              "          google.colab.kernel.accessAllowed ? 'block' : 'none';\n",
              "\n",
              "        async function convertToInteractive(key) {\n",
              "          const element = document.querySelector('#df-fe8b4e33-047b-47af-a033-446bfd90c8b2');\n",
              "          const dataTable =\n",
              "            await google.colab.kernel.invokeFunction('convertToInteractive',\n",
              "                                                     [key], {});\n",
              "          if (!dataTable) return;\n",
              "\n",
              "          const docLinkHtml = 'Like what you see? Visit the ' +\n",
              "            '<a target=\"_blank\" href=https://colab.research.google.com/notebooks/data_table.ipynb>data table notebook</a>'\n",
              "            + ' to learn more about interactive tables.';\n",
              "          element.innerHTML = '';\n",
              "          dataTable['output_type'] = 'display_data';\n",
              "          await google.colab.output.renderOutput(dataTable, element);\n",
              "          const docLink = document.createElement('div');\n",
              "          docLink.innerHTML = docLinkHtml;\n",
              "          element.appendChild(docLink);\n",
              "        }\n",
              "      </script>\n",
              "    </div>\n",
              "  </div>\n",
              "  "
            ]
          },
          "metadata": {},
          "execution_count": 4
        }
      ],
      "source": [
        "df.head()"
      ],
      "metadata": {
        "ExecuteTime": {
          "end_time": "2023-05-14T15:07:46.678949500Z",
          "start_time": "2023-05-14T15:07:46.599994100Z"
        },
        "colab": {
          "base_uri": "https://localhost:8080/",
          "height": 270
        },
        "id": "RUV_2qLZw0IZ",
        "outputId": "704552c5-9cb6-44a2-edbd-d82c50870d50"
      }
    },
    {
      "cell_type": "code",
      "execution_count": 5,
      "outputs": [
        {
          "output_type": "execute_result",
          "data": {
            "text/plain": [
              "(319795, 18)"
            ]
          },
          "metadata": {},
          "execution_count": 5
        }
      ],
      "source": [
        "df.shape"
      ],
      "metadata": {
        "ExecuteTime": {
          "end_time": "2023-05-14T15:07:46.784888800Z",
          "start_time": "2023-05-14T15:07:46.684946500Z"
        },
        "colab": {
          "base_uri": "https://localhost:8080/"
        },
        "id": "TRr0IcEgw0Ic",
        "outputId": "15a6fda1-9151-4146-ff53-d9e4080a650d"
      }
    },
    {
      "cell_type": "code",
      "execution_count": 6,
      "outputs": [
        {
          "output_type": "execute_result",
          "data": {
            "text/plain": [
              "                 BMI  PhysicalHealth   MentalHealth      SleepTime\n",
              "count  319795.000000    319795.00000  319795.000000  319795.000000\n",
              "mean       28.325399         3.37171       3.898366       7.097075\n",
              "std         6.356100         7.95085       7.955235       1.436007\n",
              "min        12.020000         0.00000       0.000000       1.000000\n",
              "25%        24.030000         0.00000       0.000000       6.000000\n",
              "50%        27.340000         0.00000       0.000000       7.000000\n",
              "75%        31.420000         2.00000       3.000000       8.000000\n",
              "max        94.850000        30.00000      30.000000      24.000000"
            ],
            "text/html": [
              "\n",
              "  <div id=\"df-0c8e7dff-5892-4a24-ac88-475dd299a28f\">\n",
              "    <div class=\"colab-df-container\">\n",
              "      <div>\n",
              "<style scoped>\n",
              "    .dataframe tbody tr th:only-of-type {\n",
              "        vertical-align: middle;\n",
              "    }\n",
              "\n",
              "    .dataframe tbody tr th {\n",
              "        vertical-align: top;\n",
              "    }\n",
              "\n",
              "    .dataframe thead th {\n",
              "        text-align: right;\n",
              "    }\n",
              "</style>\n",
              "<table border=\"1\" class=\"dataframe\">\n",
              "  <thead>\n",
              "    <tr style=\"text-align: right;\">\n",
              "      <th></th>\n",
              "      <th>BMI</th>\n",
              "      <th>PhysicalHealth</th>\n",
              "      <th>MentalHealth</th>\n",
              "      <th>SleepTime</th>\n",
              "    </tr>\n",
              "  </thead>\n",
              "  <tbody>\n",
              "    <tr>\n",
              "      <th>count</th>\n",
              "      <td>319795.000000</td>\n",
              "      <td>319795.00000</td>\n",
              "      <td>319795.000000</td>\n",
              "      <td>319795.000000</td>\n",
              "    </tr>\n",
              "    <tr>\n",
              "      <th>mean</th>\n",
              "      <td>28.325399</td>\n",
              "      <td>3.37171</td>\n",
              "      <td>3.898366</td>\n",
              "      <td>7.097075</td>\n",
              "    </tr>\n",
              "    <tr>\n",
              "      <th>std</th>\n",
              "      <td>6.356100</td>\n",
              "      <td>7.95085</td>\n",
              "      <td>7.955235</td>\n",
              "      <td>1.436007</td>\n",
              "    </tr>\n",
              "    <tr>\n",
              "      <th>min</th>\n",
              "      <td>12.020000</td>\n",
              "      <td>0.00000</td>\n",
              "      <td>0.000000</td>\n",
              "      <td>1.000000</td>\n",
              "    </tr>\n",
              "    <tr>\n",
              "      <th>25%</th>\n",
              "      <td>24.030000</td>\n",
              "      <td>0.00000</td>\n",
              "      <td>0.000000</td>\n",
              "      <td>6.000000</td>\n",
              "    </tr>\n",
              "    <tr>\n",
              "      <th>50%</th>\n",
              "      <td>27.340000</td>\n",
              "      <td>0.00000</td>\n",
              "      <td>0.000000</td>\n",
              "      <td>7.000000</td>\n",
              "    </tr>\n",
              "    <tr>\n",
              "      <th>75%</th>\n",
              "      <td>31.420000</td>\n",
              "      <td>2.00000</td>\n",
              "      <td>3.000000</td>\n",
              "      <td>8.000000</td>\n",
              "    </tr>\n",
              "    <tr>\n",
              "      <th>max</th>\n",
              "      <td>94.850000</td>\n",
              "      <td>30.00000</td>\n",
              "      <td>30.000000</td>\n",
              "      <td>24.000000</td>\n",
              "    </tr>\n",
              "  </tbody>\n",
              "</table>\n",
              "</div>\n",
              "      <button class=\"colab-df-convert\" onclick=\"convertToInteractive('df-0c8e7dff-5892-4a24-ac88-475dd299a28f')\"\n",
              "              title=\"Convert this dataframe to an interactive table.\"\n",
              "              style=\"display:none;\">\n",
              "        \n",
              "  <svg xmlns=\"http://www.w3.org/2000/svg\" height=\"24px\"viewBox=\"0 0 24 24\"\n",
              "       width=\"24px\">\n",
              "    <path d=\"M0 0h24v24H0V0z\" fill=\"none\"/>\n",
              "    <path d=\"M18.56 5.44l.94 2.06.94-2.06 2.06-.94-2.06-.94-.94-2.06-.94 2.06-2.06.94zm-11 1L8.5 8.5l.94-2.06 2.06-.94-2.06-.94L8.5 2.5l-.94 2.06-2.06.94zm10 10l.94 2.06.94-2.06 2.06-.94-2.06-.94-.94-2.06-.94 2.06-2.06.94z\"/><path d=\"M17.41 7.96l-1.37-1.37c-.4-.4-.92-.59-1.43-.59-.52 0-1.04.2-1.43.59L10.3 9.45l-7.72 7.72c-.78.78-.78 2.05 0 2.83L4 21.41c.39.39.9.59 1.41.59.51 0 1.02-.2 1.41-.59l7.78-7.78 2.81-2.81c.8-.78.8-2.07 0-2.86zM5.41 20L4 18.59l7.72-7.72 1.47 1.35L5.41 20z\"/>\n",
              "  </svg>\n",
              "      </button>\n",
              "      \n",
              "  <style>\n",
              "    .colab-df-container {\n",
              "      display:flex;\n",
              "      flex-wrap:wrap;\n",
              "      gap: 12px;\n",
              "    }\n",
              "\n",
              "    .colab-df-convert {\n",
              "      background-color: #E8F0FE;\n",
              "      border: none;\n",
              "      border-radius: 50%;\n",
              "      cursor: pointer;\n",
              "      display: none;\n",
              "      fill: #1967D2;\n",
              "      height: 32px;\n",
              "      padding: 0 0 0 0;\n",
              "      width: 32px;\n",
              "    }\n",
              "\n",
              "    .colab-df-convert:hover {\n",
              "      background-color: #E2EBFA;\n",
              "      box-shadow: 0px 1px 2px rgba(60, 64, 67, 0.3), 0px 1px 3px 1px rgba(60, 64, 67, 0.15);\n",
              "      fill: #174EA6;\n",
              "    }\n",
              "\n",
              "    [theme=dark] .colab-df-convert {\n",
              "      background-color: #3B4455;\n",
              "      fill: #D2E3FC;\n",
              "    }\n",
              "\n",
              "    [theme=dark] .colab-df-convert:hover {\n",
              "      background-color: #434B5C;\n",
              "      box-shadow: 0px 1px 3px 1px rgba(0, 0, 0, 0.15);\n",
              "      filter: drop-shadow(0px 1px 2px rgba(0, 0, 0, 0.3));\n",
              "      fill: #FFFFFF;\n",
              "    }\n",
              "  </style>\n",
              "\n",
              "      <script>\n",
              "        const buttonEl =\n",
              "          document.querySelector('#df-0c8e7dff-5892-4a24-ac88-475dd299a28f button.colab-df-convert');\n",
              "        buttonEl.style.display =\n",
              "          google.colab.kernel.accessAllowed ? 'block' : 'none';\n",
              "\n",
              "        async function convertToInteractive(key) {\n",
              "          const element = document.querySelector('#df-0c8e7dff-5892-4a24-ac88-475dd299a28f');\n",
              "          const dataTable =\n",
              "            await google.colab.kernel.invokeFunction('convertToInteractive',\n",
              "                                                     [key], {});\n",
              "          if (!dataTable) return;\n",
              "\n",
              "          const docLinkHtml = 'Like what you see? Visit the ' +\n",
              "            '<a target=\"_blank\" href=https://colab.research.google.com/notebooks/data_table.ipynb>data table notebook</a>'\n",
              "            + ' to learn more about interactive tables.';\n",
              "          element.innerHTML = '';\n",
              "          dataTable['output_type'] = 'display_data';\n",
              "          await google.colab.output.renderOutput(dataTable, element);\n",
              "          const docLink = document.createElement('div');\n",
              "          docLink.innerHTML = docLinkHtml;\n",
              "          element.appendChild(docLink);\n",
              "        }\n",
              "      </script>\n",
              "    </div>\n",
              "  </div>\n",
              "  "
            ]
          },
          "metadata": {},
          "execution_count": 6
        }
      ],
      "source": [
        "df.describe()"
      ],
      "metadata": {
        "ExecuteTime": {
          "end_time": "2023-05-14T15:07:46.891827Z",
          "start_time": "2023-05-14T15:07:46.728920Z"
        },
        "colab": {
          "base_uri": "https://localhost:8080/",
          "height": 300
        },
        "id": "yuSkNLB0w0Ic",
        "outputId": "d77da025-71a8-41a8-d361-a0333a69a211"
      }
    },
    {
      "cell_type": "code",
      "execution_count": 7,
      "outputs": [
        {
          "output_type": "execute_result",
          "data": {
            "text/plain": [
              "Index(['HeartDisease', 'BMI', 'Smoking', 'AlcoholDrinking', 'Stroke',\n",
              "       'PhysicalHealth', 'MentalHealth', 'DiffWalking', 'Sex', 'AgeCategory',\n",
              "       'Race', 'Diabetic', 'PhysicalActivity', 'GenHealth', 'SleepTime',\n",
              "       'Asthma', 'KidneyDisease', 'SkinCancer'],\n",
              "      dtype='object')"
            ]
          },
          "metadata": {},
          "execution_count": 7
        }
      ],
      "source": [
        "df.columns"
      ],
      "metadata": {
        "ExecuteTime": {
          "end_time": "2023-05-14T15:07:46.958787800Z",
          "start_time": "2023-05-14T15:07:46.885830500Z"
        },
        "colab": {
          "base_uri": "https://localhost:8080/"
        },
        "id": "2XSuUafdw0Id",
        "outputId": "8dc0d6b5-f5c1-46d0-a49b-108c778a6a20"
      }
    },
    {
      "cell_type": "code",
      "execution_count": 8,
      "outputs": [
        {
          "output_type": "stream",
          "name": "stdout",
          "text": [
            "HeartDisease:\n",
            "No     292422\n",
            "Yes     27373\n",
            "Name: HeartDisease, dtype: int64\n",
            "\n",
            "Smoking:\n",
            "No     187887\n",
            "Yes    131908\n",
            "Name: Smoking, dtype: int64\n",
            "\n",
            "AlcoholDrinking:\n",
            "No     298018\n",
            "Yes     21777\n",
            "Name: AlcoholDrinking, dtype: int64\n",
            "\n",
            "Stroke:\n",
            "No     307726\n",
            "Yes     12069\n",
            "Name: Stroke, dtype: int64\n",
            "\n",
            "DiffWalking:\n",
            "No     275385\n",
            "Yes     44410\n",
            "Name: DiffWalking, dtype: int64\n",
            "\n",
            "Sex:\n",
            "Female    167805\n",
            "Male      151990\n",
            "Name: Sex, dtype: int64\n",
            "\n",
            "AgeCategory:\n",
            "65-69          34151\n",
            "60-64          33686\n",
            "70-74          31065\n",
            "55-59          29757\n",
            "50-54          25382\n",
            "80 or older    24153\n",
            "45-49          21791\n",
            "75-79          21482\n",
            "18-24          21064\n",
            "40-44          21006\n",
            "35-39          20550\n",
            "30-34          18753\n",
            "25-29          16955\n",
            "Name: AgeCategory, dtype: int64\n",
            "\n",
            "Race:\n",
            "White                             245212\n",
            "Hispanic                           27446\n",
            "Black                              22939\n",
            "Other                              10928\n",
            "Asian                               8068\n",
            "American Indian/Alaskan Native      5202\n",
            "Name: Race, dtype: int64\n",
            "\n",
            "Diabetic:\n",
            "No                         269653\n",
            "Yes                         40802\n",
            "No, borderline diabetes      6781\n",
            "Yes (during pregnancy)       2559\n",
            "Name: Diabetic, dtype: int64\n",
            "\n",
            "PhysicalActivity:\n",
            "Yes    247957\n",
            "No      71838\n",
            "Name: PhysicalActivity, dtype: int64\n",
            "\n",
            "GenHealth:\n",
            "Very good    113858\n",
            "Good          93129\n",
            "Excellent     66842\n",
            "Fair          34677\n",
            "Poor          11289\n",
            "Name: GenHealth, dtype: int64\n",
            "\n",
            "Asthma:\n",
            "No     276923\n",
            "Yes     42872\n",
            "Name: Asthma, dtype: int64\n",
            "\n",
            "KidneyDisease:\n",
            "No     308016\n",
            "Yes     11779\n",
            "Name: KidneyDisease, dtype: int64\n",
            "\n",
            "SkinCancer:\n",
            "No     289976\n",
            "Yes     29819\n",
            "Name: SkinCancer, dtype: int64\n",
            "\n"
          ]
        }
      ],
      "source": [
        "# Replace the list of column names with the columns\n",
        "columns = ['HeartDisease','Smoking', 'AlcoholDrinking', 'Stroke', 'DiffWalking', 'Sex',\n",
        "           'AgeCategory', 'Race', 'Diabetic', 'PhysicalActivity', 'GenHealth',\n",
        "           'Asthma', 'KidneyDisease', 'SkinCancer']\n",
        "\n",
        "# Loop through the list of columns and display the value counts for each one\n",
        "for column in columns:\n",
        "    counts = df[column].value_counts()\n",
        "    print(column + ':')\n",
        "    print(counts)\n",
        "    print()"
      ],
      "metadata": {
        "ExecuteTime": {
          "end_time": "2023-05-14T15:07:47.168668400Z",
          "start_time": "2023-05-14T15:07:46.905818400Z"
        },
        "colab": {
          "base_uri": "https://localhost:8080/"
        },
        "id": "MOSwICPPw0Id",
        "outputId": "18ce80e4-8227-4744-8434-f2e1e4173f3f"
      }
    },
    {
      "cell_type": "code",
      "execution_count": 9,
      "outputs": [
        {
          "output_type": "display_data",
          "data": {
            "text/plain": [
              "<Figure size 640x480 with 1 Axes>"
            ],
            "image/png": "[encoded data removed]"
          },
          "metadata": {}
        }
      ],
      "source": [
        "\n",
        "heart_disease_counts = df['HeartDisease'].value_counts()\n",
        "\n",
        "# Plot the counts as a bar chart\n",
        "heart_disease_counts.plot.bar()\n",
        "\n",
        "# Add axis labels and title\n",
        "plt.xlabel('Heart Disease')\n",
        "plt.ylabel('Count')\n",
        "plt.title('Heart Disease Counts')\n",
        "\n",
        "# Display the plot\n",
        "plt.show()"
      ],
      "metadata": {
        "ExecuteTime": {
          "end_time": "2023-05-14T15:07:47.823297500Z",
          "start_time": "2023-05-14T15:07:47.170667800Z"
        },
        "colab": {
          "base_uri": "https://localhost:8080/",
          "height": 480
        },
        "id": "BEjtMLmtw0Ie",
        "outputId": "8214a9e2-e083-4d3f-8e91-e0f89e5df0f1"
      }
    },
    {
      "cell_type": "code",
      "execution_count": 10,
      "outputs": [
        {
          "output_type": "display_data",
          "data": {
            "text/plain": [
              "<Figure size 640x480 with 1 Axes>"
            ],
            "image/png": "[encoded data removed]"
          },
          "metadata": {}
        }
      ],
      "source": [
        "# Replace 'SkinCancer' with the column you want to plot\n",
        "Age_Category = df['AgeCategory'].value_counts()\n",
        "\n",
        "# Plot the counts as a bar chart\n",
        "Age_Category.plot.bar()\n",
        "\n",
        "# Add axis labels and title\n",
        "plt.xlabel('Age ')\n",
        "plt.ylabel('Count')\n",
        "plt.title('Age Category')\n",
        "\n",
        "# Display the plot\n",
        "plt.show()"
      ],
      "metadata": {
        "ExecuteTime": {
          "end_time": "2023-05-14T15:07:49.189514700Z",
          "start_time": "2023-05-14T15:07:47.824295100Z"
        },
        "colab": {
          "base_uri": "https://localhost:8080/",
          "height": 534
        },
        "id": "oalFDpluw0Ie",
        "outputId": "594e1496-6664-410e-eb93-719466a62921"
      }
    },
    {
      "cell_type": "code",
      "execution_count": 11,
      "outputs": [
        {
          "output_type": "display_data",
          "data": {
            "text/plain": [
              "<Figure size 640x480 with 1 Axes>"
            ],
            "image/png": "[encoded data removed]"
          },
          "metadata": {}
        }
      ],
      "source": [
        "race_counts = df['Race'].value_counts()\n",
        "\n",
        "# Plot the counts as a bar chart\n",
        "race_counts.plot.bar()\n",
        "\n",
        "# Add axis labels and title\n",
        "plt.xlabel('Race')\n",
        "plt.ylabel('Count')\n",
        "plt.title('Race Counts')\n",
        "\n",
        "# Display the plot\n",
        "plt.show()"
      ],
      "metadata": {
        "ExecuteTime": {
          "end_time": "2023-05-14T15:07:49.649252300Z",
          "start_time": "2023-05-14T15:07:49.194512200Z"
        },
        "colab": {
          "base_uri": "https://localhost:8080/",
          "height": 680
        },
        "id": "QA-OG48Qw0If",
        "outputId": "f27aa0f5-c20b-48ed-98ca-82ee784b4d15"
      }
    },
    {
      "cell_type": "code",
      "execution_count": 12,
      "outputs": [
        {
          "output_type": "display_data",
          "data": {
            "text/plain": [
              "<Figure size 640x480 with 1 Axes>"
            ],
            "image/png": "[encoded data removed]"
          },
          "metadata": {}
        }
      ],
      "source": [
        "diabetic_counts = df['Diabetic'].value_counts()\n",
        "\n",
        "# Plot the counts as a bar chart\n",
        "diabetic_counts.plot.bar()\n",
        "\n",
        "# Add axis labels and title\n",
        "plt.xlabel('Diabetic')\n",
        "plt.ylabel('Count')\n",
        "plt.title('Diabetic Counts')\n",
        "\n",
        "# Display the plot\n",
        "plt.show()"
      ],
      "metadata": {
        "ExecuteTime": {
          "end_time": "2023-05-14T15:07:50.028035800Z",
          "start_time": "2023-05-14T15:07:49.651251300Z"
        },
        "colab": {
          "base_uri": "https://localhost:8080/",
          "height": 621
        },
        "id": "jRXtE0u_w0Ig",
        "outputId": "ffe06bf8-1b6d-4cdb-8b1a-1360c384dc33"
      }
    },
    {
      "cell_type": "code",
      "execution_count": 13,
      "outputs": [
        {
          "output_type": "display_data",
          "data": {
            "text/plain": [
              "<Figure size 640x480 with 1 Axes>"
            ],
            "image/png": "[encoded data removed]"
          },
          "metadata": {}
        }
      ],
      "source": [
        "genhealth_counts = df['GenHealth'].value_counts()\n",
        "\n",
        "# Plot the counts as a bar chart\n",
        "genhealth_counts.plot.bar()\n",
        "\n",
        "# Add axis labels and title\n",
        "plt.xlabel('General Health')\n",
        "plt.ylabel('Count')\n",
        "plt.title('General Health Counts')\n",
        "\n",
        "# Display the plot\n",
        "plt.show()"
      ],
      "metadata": {
        "ExecuteTime": {
          "end_time": "2023-05-14T15:07:50.407820200Z",
          "start_time": "2023-05-14T15:07:50.029036Z"
        },
        "colab": {
          "base_uri": "https://localhost:8080/",
          "height": 528
        },
        "id": "BS-AjCEcw0Ih",
        "outputId": "51a9c2d0-e97a-4232-ccf6-0d15b9863a3e"
      }
    },
    {
      "cell_type": "code",
      "execution_count": 14,
      "outputs": [
        {
          "output_type": "display_data",
          "data": {
            "text/plain": [
              "<Figure size 640x480 with 1 Axes>"
            ],
            "image/png": "[encoded data removed]"
          },
          "metadata": {}
        }
      ],
      "source": [
        "skin_cancer_counts = df['SkinCancer'].value_counts()\n",
        "\n",
        "# Plot the counts as a bar chart\n",
        "skin_cancer_counts.plot.bar()\n",
        "\n",
        "# Add axis labels and title\n",
        "plt.xlabel('Skin Cancer')\n",
        "plt.ylabel('Count')\n",
        "plt.title('Skin Cancer Counts')\n",
        "\n",
        "# Display the plot\n",
        "plt.show()"
      ],
      "metadata": {
        "ExecuteTime": {
          "end_time": "2023-05-14T15:07:50.647724700Z",
          "start_time": "2023-05-14T15:07:50.409819100Z"
        },
        "colab": {
          "base_uri": "https://localhost:8080/",
          "height": 480
        },
        "id": "svzH-luKw0Ij",
        "outputId": "2e33c8e0-f414-4c94-f96a-a13c7b35074d"
      }
    },
    {
      "cell_type": "code",
      "execution_count": 15,
      "outputs": [
        {
          "output_type": "stream",
          "name": "stdout",
          "text": [
            "  HeartDisease    BMI Smoking AlcoholDrinking Stroke  PhysicalHealth  \\\n",
            "0           No  16.60     Yes              No     No               3   \n",
            "1           No  20.34      No              No    Yes               0   \n",
            "2           No  26.58     Yes              No     No              20   \n",
            "3           No  24.21      No              No     No               0   \n",
            "4           No  23.71      No              No     No              28   \n",
            "\n",
            "   MentalHealth DiffWalking  Sex  AgeCategory   Race Diabetic  \\\n",
            "0            30          No    0        55-59  White      Yes   \n",
            "1             0          No    0  80 or older  White       No   \n",
            "2            30          No    1        65-69  White      Yes   \n",
            "3             0          No    0        75-79  White       No   \n",
            "4             0         Yes    0        40-44  White       No   \n",
            "\n",
            "  PhysicalActivity  GenHealth  SleepTime Asthma KidneyDisease SkinCancer  \n",
            "0              Yes  Very good          5    Yes            No        Yes  \n",
            "1              Yes  Very good          7     No            No         No  \n",
            "2              Yes       Fair          8    Yes            No         No  \n",
            "3               No       Good          6     No            No        Yes  \n",
            "4              Yes  Very good          8     No            No         No  \n"
          ]
        }
      ],
      "source": [
        "\n",
        "# Define a dictionary to map 'Yes' and 'No' values to 1 and 0\n",
        "mapping = {'Male': 1, 'Female': 0}\n",
        "\n",
        "\n",
        "df['Sex'] = df['Sex'].map(mapping)\n",
        "\n",
        "# Display the updated dataframe\n",
        "print(df.head())"
      ],
      "metadata": {
        "ExecuteTime": {
          "end_time": "2023-05-14T15:07:50.730678500Z",
          "start_time": "2023-05-14T15:07:50.649727700Z"
        },
        "colab": {
          "base_uri": "https://localhost:8080/"
        },
        "id": "BIhMGhtww0Ik",
        "outputId": "11b7d373-2b12-4fc4-b0f1-c29831c94293"
      }
    },
    {
      "cell_type": "code",
      "execution_count": 16,
      "outputs": [
        {
          "output_type": "stream",
          "name": "stdout",
          "text": [
            "   HeartDisease    BMI  Smoking  AlcoholDrinking  Stroke  PhysicalHealth  \\\n",
            "0             0  16.60        1                0       0               3   \n",
            "1             0  20.34        0                0       1               0   \n",
            "2             0  26.58        1                0       0              20   \n",
            "3             0  24.21        0                0       0               0   \n",
            "4             0  23.71        0                0       0              28   \n",
            "\n",
            "   MentalHealth  DiffWalking  Sex  AgeCategory   Race Diabetic  \\\n",
            "0            30            0    0        55-59  White      Yes   \n",
            "1             0            0    0  80 or older  White       No   \n",
            "2            30            0    1        65-69  White      Yes   \n",
            "3             0            0    0        75-79  White       No   \n",
            "4             0            1    0        40-44  White       No   \n",
            "\n",
            "   PhysicalActivity  GenHealth  SleepTime  Asthma  KidneyDisease  SkinCancer  \n",
            "0                 1  Very good          5       1              0           1  \n",
            "1                 1  Very good          7       0              0           0  \n",
            "2                 1       Fair          8       1              0           0  \n",
            "3                 0       Good          6       0              0           1  \n",
            "4                 1  Very good          8       0              0           0  \n"
          ]
        }
      ],
      "source": [
        "# Define a dictionary to map 'Yes' and 'No' values to 1 and 0\n",
        "mapping = {'Yes': 1, 'No': 0}\n",
        "\n",
        "# Apply mapping to all columns with 'Yes' and 'No' values\n",
        "cols_to_map = ['HeartDisease', 'Smoking', 'AlcoholDrinking', 'Stroke', 'DiffWalking', 'PhysicalActivity', 'Asthma', 'KidneyDisease', 'SkinCancer']\n",
        "for col in cols_to_map:\n",
        "    df[col] = df[col].map(mapping)\n",
        "\n",
        "# Display the updated dataframe\n",
        "print(df.head())"
      ],
      "metadata": {
        "ExecuteTime": {
          "end_time": "2023-05-14T15:07:51.110740200Z",
          "start_time": "2023-05-14T15:07:50.729679100Z"
        },
        "colab": {
          "base_uri": "https://localhost:8080/"
        },
        "id": "mtVeYEiWw0Il",
        "outputId": "065101a5-5c92-4d30-810c-dbeb2af684e5"
      }
    },
    {
      "cell_type": "code",
      "execution_count": 17,
      "outputs": [
        {
          "output_type": "stream",
          "name": "stdout",
          "text": [
            "   HeartDisease    BMI  Smoking  AlcoholDrinking  Stroke  PhysicalHealth  \\\n",
            "0             0  16.60        1                0       0               3   \n",
            "1             0  20.34        0                0       1               0   \n",
            "2             0  26.58        1                0       0              20   \n",
            "3             0  24.21        0                0       0               0   \n",
            "4             0  23.71        0                0       0              28   \n",
            "\n",
            "   MentalHealth  DiffWalking  Sex  AgeCategory   Race Diabetic  \\\n",
            "0            30            0    0        55-59  White      Yes   \n",
            "1             0            0    0  80 or older  White       No   \n",
            "2            30            0    1        65-69  White      Yes   \n",
            "3             0            0    0        75-79  White       No   \n",
            "4             0            1    0        40-44  White       No   \n",
            "\n",
            "   PhysicalActivity  GenHealth  SleepTime  Asthma  KidneyDisease  SkinCancer  \\\n",
            "0                 1  Very good          5       1              0           1   \n",
            "1                 1  Very good          7       0              0           0   \n",
            "2                 1       Fair          8       1              0           0   \n",
            "3                 0       Good          6       0              0           1   \n",
            "4                 1  Very good          8       0              0           0   \n",
            "\n",
            "    Age  \n",
            "0  57.0  \n",
            "1  85.0  \n",
            "2  67.0  \n",
            "3  77.0  \n",
            "4  42.0  \n"
          ]
        }
      ],
      "source": [
        "# Define a function to calculate the midpoint of an age range\n",
        "def calculate_midpoint(age_range):\n",
        "    if age_range == '80 or older':\n",
        "        return 85\n",
        "    age_range = age_range.split('-')\n",
        "    return (int(age_range[0]) + int(age_range[1])) / 2\n",
        "\n",
        "# Create a new column with the midpoint of each age range\n",
        "df['Age'] = df['AgeCategory'].apply(calculate_midpoint)\n",
        "\n",
        "# Display the updated dataframe\n",
        "print(df.head())"
      ],
      "metadata": {
        "ExecuteTime": {
          "end_time": "2023-05-14T15:07:51.333611200Z",
          "start_time": "2023-05-14T15:07:51.113736800Z"
        },
        "colab": {
          "base_uri": "https://localhost:8080/"
        },
        "id": "GD3PUrDQw0Il",
        "outputId": "f614842d-f798-4be8-c6e0-bb9c1575f2e1"
      }
    },
    {
      "cell_type": "code",
      "execution_count": 18,
      "outputs": [],
      "source": [
        "# Drop the 'AgeCategory' column\n",
        "df = df.drop('AgeCategory', axis=1)\n"
      ],
      "metadata": {
        "ExecuteTime": {
          "end_time": "2023-05-14T15:07:51.385584Z",
          "start_time": "2023-05-14T15:07:51.335610700Z"
        },
        "id": "ykAsFQGSw0Il"
      }
    },
    {
      "cell_type": "code",
      "execution_count": 19,
      "outputs": [
        {
          "output_type": "stream",
          "name": "stdout",
          "text": [
            "   HeartDisease    BMI  Smoking  AlcoholDrinking  Stroke  PhysicalHealth  \\\n",
            "0             0  16.60        1                0       0               3   \n",
            "1             0  20.34        0                0       1               0   \n",
            "2             0  26.58        1                0       0              20   \n",
            "3             0  24.21        0                0       0               0   \n",
            "4             0  23.71        0                0       0              28   \n",
            "\n",
            "   MentalHealth  DiffWalking  Sex  Race  Diabetic  PhysicalActivity  \\\n",
            "0            30            0    0     0         1                 1   \n",
            "1             0            0    0     0         0                 1   \n",
            "2            30            0    1     0         1                 1   \n",
            "3             0            0    0     0         0                 0   \n",
            "4             0            1    0     0         0                 1   \n",
            "\n",
            "   GenHealth  SleepTime  Asthma  KidneyDisease  SkinCancer   Age  \n",
            "0          0          5       1              0           1  57.0  \n",
            "1          0          7       0              0           0  85.0  \n",
            "2          3          8       1              0           0  67.0  \n",
            "3          1          6       0              0           1  77.0  \n",
            "4          0          8       0              0           0  42.0  \n"
          ]
        }
      ],
      "source": [
        "# Define dictionaries to map categorical values to numerical values\n",
        "genhealth_mapping = {'Very good': 0, 'Good': 1, 'Excellent': 2, 'Fair': 3, 'Poor': 4}\n",
        "diabetic_mapping = {'No': 0, 'Yes': 1, 'No, borderline diabetes': 2, 'Yes (during pregnancy)': 3}\n",
        "race_mapping = {'White': 0, 'Hispanic': 1, 'Black': 2, 'Other': 3, 'Asian': 4, 'American Indian/Alaskan Native': 5}\n",
        "\n",
        "# Apply mapping to 'GenHealth', 'Diabetic', and 'Race' columns\n",
        "df['GenHealth'] = df['GenHealth'].map(genhealth_mapping)\n",
        "df['Diabetic'] = df['Diabetic'].map(diabetic_mapping)\n",
        "df['Race'] = df['Race'].map(race_mapping)\n",
        "\n",
        "print(df.head())"
      ],
      "metadata": {
        "ExecuteTime": {
          "end_time": "2023-05-14T15:07:51.476529800Z",
          "start_time": "2023-05-14T15:07:51.383583200Z"
        },
        "colab": {
          "base_uri": "https://localhost:8080/"
        },
        "id": "g1-RusAlw0Im",
        "outputId": "61b6b723-346e-41b9-aed4-5f24efcea89b"
      }
    },
    {
      "cell_type": "code",
      "execution_count": 20,
      "outputs": [
        {
          "output_type": "stream",
          "name": "stdout",
          "text": [
            "Train set shape: (179884, 17) (179884,)\n",
            "Validation set shape: (59962, 17) (59962,)\n",
            "Test set shape: (79949, 17) (79949,)\n"
          ]
        }
      ],
      "source": [
        "from sklearn.model_selection import train_test_split\n",
        "\n",
        "# Separate the target column\n",
        "y = df['HeartDisease'].values\n",
        "\n",
        "# Drop the target column from the input features\n",
        "X = df.drop('HeartDisease', axis=1).values\n",
        "\n",
        "# Split the data into train and test sets with 75:25 ratio\n",
        "X_train, X_test, y_train, y_test = train_test_split(X, y, test_size=0.25, random_state=42)\n",
        "\n",
        "# Split the train set further into train and validation sets with 75:25 ratio\n",
        "X_train, X_val, y_train, y_val = train_test_split(X_train, y_train, test_size=0.25, random_state=42)\n",
        "\n",
        "# Print the shapes of the resulting sets\n",
        "print(\"Train set shape:\", X_train.shape, y_train.shape)\n",
        "print(\"Validation set shape:\", X_val.shape, y_val.shape)\n",
        "print(\"Test set shape:\", X_test.shape, y_test.shape)"
      ],
      "metadata": {
        "ExecuteTime": {
          "end_time": "2023-05-14T15:07:51.955031600Z",
          "start_time": "2023-05-14T15:07:51.477529300Z"
        },
        "colab": {
          "base_uri": "https://localhost:8080/"
        },
        "id": "NK2sTi7sw0Im",
        "outputId": "b6c27519-51be-4212-ae1a-8c5da0047a8f"
      }
    },
    {
      "cell_type": "code",
      "execution_count": 21,
      "outputs": [],
      "source": [
        "from sklearn.preprocessing import MinMaxScaler\n",
        "\n",
        "scaler = MinMaxScaler()\n",
        "X_train_scaled = scaler.fit_transform(X_train)\n",
        "X_test_scaled = scaler.transform(X_test)\n",
        "X_val_scaled = scaler.transform(X_val)"
      ],
      "metadata": {
        "ExecuteTime": {
          "end_time": "2023-05-14T15:07:52.035044400Z",
          "start_time": "2023-05-14T15:07:51.958030600Z"
        },
        "id": "ev48rcITw0Im"
      }
    },
    {
      "cell_type": "code",
      "execution_count": 22,
      "outputs": [
        {
          "output_type": "stream",
          "name": "stdout",
          "text": [
            "X_train_scaled.shape = (179884, 17)\n"
          ]
        }
      ],
      "source": [
        "print('X_train_scaled.shape =', X_train_scaled.shape)"
      ],
      "metadata": {
        "ExecuteTime": {
          "end_time": "2023-05-14T15:07:52.052033500Z",
          "start_time": "2023-05-14T15:07:52.039041900Z"
        },
        "colab": {
          "base_uri": "https://localhost:8080/"
        },
        "id": "hKEWdHqxw0Im",
        "outputId": "92cc2d41-152f-4cf1-bdd2-50f32b8b5c4e"
      }
    },
    {
      "cell_type": "code",
      "execution_count": 23,
      "outputs": [],
      "source": [
        "from tensorflow.keras.preprocessing.sequence import TimeseriesGenerator\n",
        "\n",
        "n_input = 12  # number of time steps\n",
        "n_features = X_train_scaled.shape[1]  # number of features\n",
        "\n",
        "train_generator = TimeseriesGenerator(X_train_scaled, y_train, length=n_input, batch_size=16)\n",
        "test_generator = TimeseriesGenerator(X_test_scaled, y_test, length=n_input, batch_size=16)\n",
        "val_generator = TimeseriesGenerator(X_val_scaled, y_val, length=n_input, batch_size=16)\n"
      ],
      "metadata": {
        "ExecuteTime": {
          "end_time": "2023-05-14T15:07:55.369873900Z",
          "start_time": "2023-05-14T15:07:52.055032400Z"
        },
        "id": "E1Orwv0Xw0In"
      }
    },
    {
      "cell_type": "code",
      "execution_count": 24,
      "outputs": [],
      "source": [
        "from tensorflow.keras.models import Sequential\n",
        "from tensorflow.keras.layers import Conv1D, MaxPooling1D, Flatten, Dense, LSTM, Dropout\n",
        "\n",
        "model = Sequential()\n",
        "model.add(Conv1D(64, kernel_size=3, activation='relu', input_shape=(n_input, n_features)))\n",
        "model.add(MaxPooling1D(pool_size=2))\n",
        "model.add(LSTM(256, activation='relu', return_sequences=True))\n",
        "model.add(Dropout(0.1))\n",
        "model.add(LSTM(128, activation='relu'))\n",
        "model.add(Dropout(0.1))\n",
        "model.add(Dense(64, activation='relu'))\n",
        "model.add(Dense(1, activation='sigmoid'))\n"
      ],
      "metadata": {
        "ExecuteTime": {
          "end_time": "2023-05-14T15:07:55.653025Z",
          "start_time": "2023-05-14T15:07:55.369873900Z"
        },
        "id": "WxI18iRYw0In"
      }
    },
    {
      "cell_type": "code",
      "execution_count": 25,
      "outputs": [
        {
          "output_type": "stream",
          "name": "stdout",
          "text": [
            "Model: \"sequential\"\n",
            "_________________________________________________________________\n",
            " Layer (type)                Output Shape              Param #   \n",
            "=================================================================\n",
            " conv1d (Conv1D)             (None, 10, 64)            3328      \n",
            "                                                                 \n",
            " max_pooling1d (MaxPooling1D  (None, 5, 64)            0         \n",
            " )                                                               \n",
            "                                                                 \n",
            " lstm (LSTM)                 (None, 5, 256)            328704    \n",
            "                                                                 \n",
            " dropout (Dropout)           (None, 5, 256)            0         \n",
            "                                                                 \n",
            " lstm_1 (LSTM)               (None, 128)               197120    \n",
            "                                                                 \n",
            " dropout_1 (Dropout)         (None, 128)               0         \n",
            "                                                                 \n",
            " dense (Dense)               (None, 64)                8256      \n",
            "                                                                 \n",
            " dense_1 (Dense)             (None, 1)                 65        \n",
            "                                                                 \n",
            "=================================================================\n",
            "Total params: 537,473\n",
            "Trainable params: 537,473\n",
            "Non-trainable params: 0\n",
            "_________________________________________________________________\n"
          ]
        }
      ],
      "source": [
        "model.summary()"
      ],
      "metadata": {
        "ExecuteTime": {
          "end_time": "2023-05-14T15:07:55.710991900Z",
          "start_time": "2023-05-14T15:07:55.655023700Z"
        },
        "colab": {
          "base_uri": "https://localhost:8080/"
        },
        "id": "kl4Fl3Hbw0In",
        "outputId": "112a8790-43d9-4a3e-a2c2-190581523b0b"
      }
    },
    {
      "cell_type": "code",
      "execution_count": 26,
      "outputs": [],
      "source": [
        "from tensorflow.keras.optimizers import Adam\n",
        "# Compile the model\n",
        "opt = Adam(learning_rate=0.0001)\n",
        "model.compile(loss='BinaryCrossentropy', optimizer=opt, metrics=['accuracy'])\n"
      ],
      "metadata": {
        "ExecuteTime": {
          "end_time": "2023-05-14T15:07:55.748972200Z",
          "start_time": "2023-05-14T15:07:55.702997400Z"
        },
        "id": "k6eQTlrZw0In"
      }
    },
    {
      "cell_type": "code",
      "execution_count": 27,
      "outputs": [],
      "source": [
        "from tensorflow.keras.callbacks import EarlyStopping"
      ],
      "metadata": {
        "ExecuteTime": {
          "end_time": "2023-05-14T15:07:55.763963300Z",
          "start_time": "2023-05-14T15:07:55.735978900Z"
        },
        "id": "GStgVavtw0Io"
      }
    },
    {
      "cell_type": "code",
      "execution_count": 28,
      "outputs": [],
      "source": [
        "early_stopping = EarlyStopping(monitor='val_loss', patience=10)"
      ],
      "metadata": {
        "ExecuteTime": {
          "end_time": "2023-05-14T15:07:55.781952300Z",
          "start_time": "2023-05-14T15:07:55.765960Z"
        },
        "id": "cBQZnFDFw0Io"
      }
    },
    {
      "cell_type": "code",
      "execution_count": 29,
      "outputs": [
        {
          "output_type": "stream",
          "name": "stdout",
          "text": [
            "Epoch 1/15\n",
            "11242/11242 [==============================] - 339s 30ms/step - loss: 0.2954 - accuracy: 0.9147 - val_loss: 0.2913 - val_accuracy: 0.9149\n",
            "Epoch 2/15\n",
            "11242/11242 [==============================] - 362s 32ms/step - loss: 0.2922 - accuracy: 0.9148 - val_loss: 0.2913 - val_accuracy: 0.9149\n",
            "Epoch 3/15\n",
            "11242/11242 [==============================] - 330s 29ms/step - loss: 0.2920 - accuracy: 0.9148 - val_loss: 0.2913 - val_accuracy: 0.9149\n",
            "Epoch 4/15\n",
            "11242/11242 [==============================] - 335s 30ms/step - loss: 0.2918 - accuracy: 0.9148 - val_loss: 0.2912 - val_accuracy: 0.9149\n",
            "Epoch 5/15\n",
            "11242/11242 [==============================] - 328s 29ms/step - loss: 0.2917 - accuracy: 0.9148 - val_loss: 0.2916 - val_accuracy: 0.9149\n",
            "Epoch 6/15\n",
            "11242/11242 [==============================] - 328s 29ms/step - loss: 0.2912 - accuracy: 0.9148 - val_loss: 0.2938 - val_accuracy: 0.9149\n",
            "Epoch 7/15\n",
            "11242/11242 [==============================] - 330s 29ms/step - loss: 0.2909 - accuracy: 0.9148 - val_loss: 0.2929 - val_accuracy: 0.9149\n",
            "Epoch 8/15\n",
            "11242/11242 [==============================] - 354s 31ms/step - loss: 0.2903 - accuracy: 0.9148 - val_loss: 0.2928 - val_accuracy: 0.9149\n",
            "Epoch 9/15\n",
            "11242/11242 [==============================] - 367s 33ms/step - loss: 0.2895 - accuracy: 0.9148 - val_loss: 0.2947 - val_accuracy: 0.9149\n",
            "Epoch 10/15\n",
            "11242/11242 [==============================] - 346s 31ms/step - loss: 0.2886 - accuracy: 0.9148 - val_loss: 0.2940 - val_accuracy: 0.9149\n",
            "Epoch 11/15\n",
            "11242/11242 [==============================] - 378s 34ms/step - loss: 0.2875 - accuracy: 0.9148 - val_loss: 0.2974 - val_accuracy: 0.9149\n",
            "Epoch 12/15\n",
            "11242/11242 [==============================] - 340s 30ms/step - loss: 0.2863 - accuracy: 0.9148 - val_loss: 0.2972 - val_accuracy: 0.9149\n",
            "Epoch 13/15\n",
            "11242/11242 [==============================] - 345s 31ms/step - loss: 0.2847 - accuracy: 0.9148 - val_loss: 0.3008 - val_accuracy: 0.9149\n",
            "Epoch 14/15\n",
            "11242/11242 [==============================] - 353s 31ms/step - loss: 0.2831 - accuracy: 0.9148 - val_loss: 0.3019 - val_accuracy: 0.9149\n"
          ]
        }
      ],
      "source": [
        "hist = model.fit(train_generator, validation_data=val_generator, epochs=15, verbose=1, callbacks=[early_stopping])\n"
      ],
      "metadata": {
        "is_executing": true,
        "ExecuteTime": {
          "start_time": "2023-05-14T15:07:55.782951800Z"
        },
        "colab": {
          "base_uri": "https://localhost:8080/"
        },
        "id": "N7wlUGyLw0Io",
        "outputId": "9f806cd6-9c55-4bd3-9d6f-1ec908f97235"
      }
    },
    {
      "cell_type": "code",
      "execution_count": 30,
      "outputs": [
        {
          "output_type": "execute_result",
          "data": {
            "text/plain": [
              "{'loss': [0.29544854164123535,\n",
              "  0.29221227765083313,\n",
              "  0.29197075963020325,\n",
              "  0.29180657863616943,\n",
              "  0.29172030091285706,\n",
              "  0.2912120223045349,\n",
              "  0.2908789813518524,\n",
              "  0.29032501578330994,\n",
              "  0.2894689440727234,\n",
              "  0.28864941000938416,\n",
              "  0.28754156827926636,\n",
              "  0.2862856388092041,\n",
              "  0.2847188711166382,\n",
              "  0.2830580472946167],\n",
              " 'accuracy': [0.9147059917449951,\n",
              "  0.9148005247116089,\n",
              "  0.9148005247116089,\n",
              "  0.9148005247116089,\n",
              "  0.9148005247116089,\n",
              "  0.9148005247116089,\n",
              "  0.9148005247116089,\n",
              "  0.9148005247116089,\n",
              "  0.9148005247116089,\n",
              "  0.9148005247116089,\n",
              "  0.9148005247116089,\n",
              "  0.9148005247116089,\n",
              "  0.9148005247116089,\n",
              "  0.9148005247116089],\n",
              " 'val_loss': [0.2913132309913635,\n",
              "  0.2913096845149994,\n",
              "  0.2913433909416199,\n",
              "  0.29116442799568176,\n",
              "  0.2915674149990082,\n",
              "  0.29377052187919617,\n",
              "  0.29291465878486633,\n",
              "  0.29277467727661133,\n",
              "  0.2947291135787964,\n",
              "  0.2940043807029724,\n",
              "  0.2974156439304352,\n",
              "  0.2971537709236145,\n",
              "  0.30075979232788086,\n",
              "  0.30192795395851135],\n",
              " 'val_accuracy': [0.9149290919303894,\n",
              "  0.9149290919303894,\n",
              "  0.9149290919303894,\n",
              "  0.9149290919303894,\n",
              "  0.9149290919303894,\n",
              "  0.9149290919303894,\n",
              "  0.9149290919303894,\n",
              "  0.9149290919303894,\n",
              "  0.9149290919303894,\n",
              "  0.9149290919303894,\n",
              "  0.9149290919303894,\n",
              "  0.9149290919303894,\n",
              "  0.9149290919303894,\n",
              "  0.9149290919303894]}"
            ]
          },
          "metadata": {},
          "execution_count": 30
        }
      ],
      "source": [
        "hist.history"
      ],
      "metadata": {
        "is_executing": true,
        "colab": {
          "base_uri": "https://localhost:8080/"
        },
        "id": "wf4-eJGEw0Io",
        "outputId": "8830b2a0-163a-47c9-8fda-ef520a8ab601"
      }
    },
    {
      "cell_type": "code",
      "execution_count": 31,
      "outputs": [
        {
          "output_type": "display_data",
          "data": {
            "text/plain": [
              "<Figure size 640x480 with 1 Axes>"
            ],
            "image/png": "[encoded data removed]"
          },
          "metadata": {}
        }
      ],
      "source": [
        "fig = plt.figure()\n",
        "plt.plot(hist.history['loss'], color='blue', label='loss')\n",
        "plt.plot(hist.history['val_loss'], color='green', label='val_loss')\n",
        "fig.suptitle('LOSS OF TRAIN AND VAL', fontsize=30)\n",
        "plt.legend(loc=\"upper left\")\n",
        "plt.show()"
      ],
      "metadata": {
        "is_executing": true,
        "colab": {
          "base_uri": "https://localhost:8080/",
          "height": 478
        },
        "id": "qUDBGCTRw0Ip",
        "outputId": "5ccd5af9-002d-4015-f901-22a42366007f"
      }
    },
    {
      "cell_type": "code",
      "execution_count": 32,
      "outputs": [
        {
          "output_type": "display_data",
          "data": {
            "text/plain": [
              "<Figure size 640x480 with 1 Axes>"
            ],
            "image/png": "[encoded data removed]"
          },
          "metadata": {}
        }
      ],
      "source": [
        "fig = plt.figure()\n",
        "plt.plot(hist.history['accuracy'], color='blue', label='accuracy')\n",
        "plt.plot(hist.history['val_accuracy'], color='green', label='val_accuracy')\n",
        "fig.suptitle('ACCURACY OF TRAIN AND VAL', fontsize=30)\n",
        "plt.legend(loc=\"upper left\")\n",
        "plt.show()"
      ],
      "metadata": {
        "is_executing": true,
        "colab": {
          "base_uri": "https://localhost:8080/",
          "height": 478
        },
        "id": "jJJXcSr6w0Ip",
        "outputId": "1af800d3-e90b-4caa-f3a8-d2604e36d11c"
      }
    },
    {
      "cell_type": "code",
      "execution_count": 33,
      "outputs": [
        {
          "output_type": "stream",
          "name": "stdout",
          "text": [
            "Test Loss: 0.30192795395851135\n",
            "Test Accuracy: 0.9149290919303894\n"
          ]
        }
      ],
      "source": [
        "test_loss = hist.history['val_loss'][-1]\n",
        "test_acc = hist.history['val_accuracy'][-1]\n",
        "\n",
        "print(\"Test Loss:\", test_loss)\n",
        "print(\"Test Accuracy:\", test_acc)"
      ],
      "metadata": {
        "is_executing": true,
        "colab": {
          "base_uri": "https://localhost:8080/"
        },
        "id": "1zbYRAtFw0Ip",
        "outputId": "31780e67-a89e-4d10-8bcd-1d0db61e7ca1"
      }
    },
    {
      "cell_type": "code",
      "execution_count": 34,
      "outputs": [],
      "source": [
        "model.save('heart_disease_model.h5')"
      ],
      "metadata": {
        "is_executing": true,
        "id": "PBT1mpyPw0Ip"
      }
    },
    {
      "cell_type": "code",
      "source": [
        "import gradio as gr"
      ],
      "metadata": {
        "id": "KBNv6gdzXBrD"
      },
      "execution_count": null,
      "outputs": []
    },
    {
      "cell_type": "code",
      "execution_count": null,
      "outputs": [],
      "source": [
        "# Define the prediction function\n",
        "def predict(age, sex, genhealth, diabetic, race, Smoking, AlcoholDrinking, Stroke, DiffWalking, PhysicalActivity, Asthma, KidneyDisease, SkinCancer, SleepTime, BMI, PhysicalHealth, MentalHealth):\n",
        "    inputs = preprocess_input(age, sex, genhealth, diabetic, race , Smoking, AlcoholDrinking, Stroke, DiffWalking, PhysicalActivity, Asthma, KidneyDisease, SkinCancer, SleepTime, BMI, PhysicalHealth, MentalHealth)\n",
        "    prediction = model.predict(inputs)[0][0]\n",
        "    if prediction < 0.5:\n",
        "        return 'No risk of diabetes'\n",
        "    else:\n",
        "        return 'Risk of diabetes'\n",
        "\n",
        "# Define the input fields\n",
        "inputs = [    gr.inputs.Dropdown(label='Age Category', choices=['18-24', '25-29', '30-34', '35-39', '40-44', '45-49', '50-54', '55-59', '60-64', '65-69', '70-74', '75-79', '80 or older']),\n",
        "    gr.inputs.Radio(label='Sex', choices=[('Male', 'Male'), ('Female', 'Female')]),\n",
        "    gr.inputs.Dropdown(label='General Health', choices=['Very good', 'Good', 'Excellent', 'Fair', 'Poor']),\n",
        "    gr.inputs.Dropdown(label='Diabetic', choices=['No', 'Yes', 'No, borderline diabetes', 'Yes (during pregnancy)']),\n",
        "    gr.inputs.Dropdown(label='Race', choices=['White', 'African American', 'Asian', 'Hispanic', 'Other']),\n",
        "    gr.inputs.Radio(label='Smoking', choices=[('Yes', 1), ('No', 0)]),\n",
        "    gr.inputs.Radio(label='Alcohol Drinking', choices=[('Yes', 1), ('No', 0)]),\n",
        "    gr.inputs.Radio(label='Stroke', choices=[('Yes', 1), ('No', 0)]),\n",
        "    gr.inputs.Radio(label='Difficulty Walking', choices=[('Yes', 1), ('No', 0)]),\n",
        "    gr.inputs.Radio(label='Physical Activity', choices=[('Yes', 1), ('No', 0)]),\n",
        "    gr.inputs.Radio(label='Asthma', choices=[('Yes', 1), ('No', 0)]),\n",
        "    gr.inputs.Radio(label='Kidney Disease', choices=[('Yes', 1), ('No', 0)]),\n",
        "    gr.inputs.Radio(label='Skin Cancer', choices=[('Yes', 1), ('No', 0)]),\n",
        "    gr.inputs.Number(label='Sleep Time (hours)', default=7, min=1, max=24),\n",
        "    gr.inputs.Number(label='BMI (Body Mass Index)', default=25, min=10, max=50),\n",
        "    gr.inputs.Number(label='Physical Health (1-30)', default=15, min=1, max=30),\n",
        "    gr.inputs.Number(label='Mental Health (1-30)', default=15, min=1, max=30)\n",
        "]\n",
        "\n",
        "# Create the interface\n",
        "interface = gr.Interface(\n",
        "    fn=predict,\n",
        "    inputs=inputs,\n",
        "    outputs='text',\n",
        "    title='Diabetes Risk Predictor',\n",
        "    description='Enter your information to see if you are at risk of developing diabetes.'\n",
        ")\n",
        "\n",
        "# Launch the interface\n",
        "interface.launch()"
      ],
      "metadata": {
        "is_executing": true,
        "id": "9QgWhmC5w0Iq"
      }
    }
  ],
  "metadata": {
    "kernelspec": {
      "display_name": "Python 3",
      "language": "python",
      "name": "python3"
    },
    "language_info": {
      "codemirror_mode": {
        "name": "ipython",
        "version": 2
      },
      "file_extension": ".py",
      "mimetype": "text/x-python",
      "name": "python",
      "nbconvert_exporter": "python",
      "pygments_lexer": "ipython2",
      "version": "2.7.6"
    },
    "colab": {
      "provenance": []
    }
  },
  "nbformat": 4,
  "nbformat_minor": 0
}